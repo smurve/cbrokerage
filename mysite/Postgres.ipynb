{
 "cells": [
  {
   "cell_type": "markdown",
   "metadata": {},
   "source": [
    "# Postgres"
   ]
  },
  {
   "cell_type": "code",
   "execution_count": 1,
   "metadata": {},
   "outputs": [],
   "source": [
    "import psycopg2"
   ]
  },
  {
   "cell_type": "code",
   "execution_count": 2,
   "metadata": {},
   "outputs": [],
   "source": [
    "conn = psycopg2.connect(dbname='dsp_dev', user='postgres', host='35.223.243.197', password='postgres')"
   ]
  },
  {
   "cell_type": "code",
   "execution_count": 3,
   "metadata": {},
   "outputs": [],
   "source": [
    "cur = conn.cursor()\n",
    "cur.execute(\"SELECT datname FROM pg_database\")"
   ]
  },
  {
   "cell_type": "code",
   "execution_count": 4,
   "metadata": {},
   "outputs": [
    {
     "data": {
      "text/plain": [
       "[('cloudsqladmin',),\n",
       " ('template0',),\n",
       " ('postgres',),\n",
       " ('template1',),\n",
       " ('dsp_dev',)]"
      ]
     },
     "execution_count": 4,
     "metadata": {},
     "output_type": "execute_result"
    }
   ],
   "source": [
    "rows = cur.fetchall()\n",
    "rows"
   ]
  },
  {
   "cell_type": "code",
   "execution_count": 5,
   "metadata": {},
   "outputs": [],
   "source": [
    "def select(query):\n",
    "    curr = conn.cursor()\n",
    "    cur.execute(query)\n",
    "    rows = cur.fetchall()\n",
    "    return rows"
   ]
  },
  {
   "cell_type": "code",
   "execution_count": 6,
   "metadata": {},
   "outputs": [
    {
     "data": {
      "text/plain": [
       "[('public', 'django_migrations', 'postgres', None, True, False, False, False),\n",
       " ('public', 'django_content_type', 'postgres', None, True, False, True, False),\n",
       " ('public', 'auth_permission', 'postgres', None, True, False, True, False),\n",
       " ('public', 'auth_group', 'postgres', None, True, False, True, False),\n",
       " ('public',\n",
       "  'auth_group_permissions',\n",
       "  'postgres',\n",
       "  None,\n",
       "  True,\n",
       "  False,\n",
       "  True,\n",
       "  False),\n",
       " ('public', 'auth_user_groups', 'postgres', None, True, False, True, False),\n",
       " ('public', 'auth_user', 'postgres', None, True, False, True, False),\n",
       " ('public',\n",
       "  'auth_user_user_permissions',\n",
       "  'postgres',\n",
       "  None,\n",
       "  True,\n",
       "  False,\n",
       "  True,\n",
       "  False),\n",
       " ('public', 'django_admin_log', 'postgres', None, True, False, True, False),\n",
       " ('public', 'polls_question', 'postgres', None, True, False, True, False),\n",
       " ('public', 'polls_choice', 'postgres', None, True, False, True, False),\n",
       " ('public', 'django_session', 'postgres', None, True, False, False, False)]"
      ]
     },
     "execution_count": 6,
     "metadata": {},
     "output_type": "execute_result"
    }
   ],
   "source": [
    "select(\"\"\"SELECT\n",
    "   *\n",
    "FROM\n",
    "   pg_catalog.pg_tables\n",
    "WHERE\n",
    "   schemaname != 'pg_catalog'\n",
    "AND schemaname != 'information_schema';\"\"\")"
   ]
  },
  {
   "cell_type": "code",
   "execution_count": 7,
   "metadata": {},
   "outputs": [
    {
     "data": {
      "text/plain": [
       "[(1,\n",
       "  \"What's a rat?\",\n",
       "  datetime.datetime(2019, 11, 8, 19, 19, 14, tzinfo=psycopg2.tz.FixedOffsetTimezone(offset=0, name=None))),\n",
       " (2,\n",
       "  \"What's a whistle blower\",\n",
       "  datetime.datetime(2019, 11, 17, 10, 4, 39, tzinfo=psycopg2.tz.FixedOffsetTimezone(offset=0, name=None))),\n",
       " (3,\n",
       "  \"How's Kelly-Ann doing?\",\n",
       "  datetime.datetime(2019, 11, 8, 19, 19, 14, tzinfo=psycopg2.tz.FixedOffsetTimezone(offset=0, name=None)))]"
      ]
     },
     "execution_count": 7,
     "metadata": {},
     "output_type": "execute_result"
    }
   ],
   "source": [
    "select(\"SELECT * FROM polls_question\")"
   ]
  },
  {
   "cell_type": "markdown",
   "metadata": {},
   "source": [
    "# Django ORM"
   ]
  },
  {
   "cell_type": "code",
   "execution_count": 8,
   "metadata": {},
   "outputs": [
    {
     "data": {
      "text/plain": [
       "'mysite.settings'"
      ]
     },
     "execution_count": 8,
     "metadata": {},
     "output_type": "execute_result"
    }
   ],
   "source": [
    "import os\n",
    "os.environ.setdefault(\"DJANGO_SETTINGS_MODULE\", \"mysite.settings\")"
   ]
  },
  {
   "cell_type": "code",
   "execution_count": 9,
   "metadata": {},
   "outputs": [],
   "source": [
    "import django"
   ]
  },
  {
   "cell_type": "code",
   "execution_count": 10,
   "metadata": {},
   "outputs": [],
   "source": [
    "from django.contrib import admin"
   ]
  },
  {
   "cell_type": "code",
   "execution_count": 11,
   "metadata": {},
   "outputs": [],
   "source": [
    "django.setup()"
   ]
  },
  {
   "cell_type": "code",
   "execution_count": 12,
   "metadata": {},
   "outputs": [],
   "source": [
    "from polls.models import Question"
   ]
  },
  {
   "cell_type": "code",
   "execution_count": 13,
   "metadata": {},
   "outputs": [],
   "source": [
    "from django.db import models"
   ]
  },
  {
   "cell_type": "code",
   "execution_count": 14,
   "metadata": {},
   "outputs": [],
   "source": [
    "q0 = list(Question.objects.all())[0]"
   ]
  },
  {
   "cell_type": "code",
   "execution_count": 15,
   "metadata": {},
   "outputs": [
    {
     "data": {
      "text/plain": [
       "<Question: What's a rat?>"
      ]
     },
     "execution_count": 15,
     "metadata": {},
     "output_type": "execute_result"
    }
   ],
   "source": [
    "q0"
   ]
  },
  {
   "cell_type": "code",
   "execution_count": 14,
   "metadata": {},
   "outputs": [
    {
     "data": {
      "text/plain": [
       "\"What's a rat?\""
      ]
     },
     "execution_count": 14,
     "metadata": {},
     "output_type": "execute_result"
    }
   ],
   "source": [
    "q0.question_text"
   ]
  },
  {
   "cell_type": "code",
   "execution_count": 17,
   "metadata": {},
   "outputs": [],
   "source": [
    "q2 = Question(question_text=\"How's Rudy doing?\", pub_date=q0.pub_date)"
   ]
  },
  {
   "cell_type": "code",
   "execution_count": 18,
   "metadata": {},
   "outputs": [],
   "source": [
    "q2.save()"
   ]
  },
  {
   "cell_type": "code",
   "execution_count": 19,
   "metadata": {},
   "outputs": [
    {
     "data": {
      "text/plain": [
       "<QuerySet [<Question: What's a rat?>, <Question: What's a whistle blower>, <Question: How's Kelly-Ann doing?>, <Question: How's Rudy doing?>]>"
      ]
     },
     "execution_count": 19,
     "metadata": {},
     "output_type": "execute_result"
    }
   ],
   "source": [
    "Question.objects.all()"
   ]
  },
  {
   "cell_type": "code",
   "execution_count": 20,
   "metadata": {},
   "outputs": [
    {
     "name": "stdout",
     "output_type": "stream",
     "text": [
      "What's a rat?\n",
      "What's a whistle blower\n",
      "How's Kelly-Ann doing?\n",
      "How's Rudy doing?\n"
     ]
    }
   ],
   "source": [
    "for q in Question.objects.all():\n",
    "    print(q.question_text)"
   ]
  },
  {
   "cell_type": "code",
   "execution_count": null,
   "metadata": {},
   "outputs": [],
   "source": []
  }
 ],
 "metadata": {
  "kernelspec": {
   "display_name": "Python 3",
   "language": "python",
   "name": "python3"
  },
  "language_info": {
   "codemirror_mode": {
    "name": "ipython",
    "version": 3
   },
   "file_extension": ".py",
   "mimetype": "text/x-python",
   "name": "python",
   "nbconvert_exporter": "python",
   "pygments_lexer": "ipython3",
   "version": "3.6.8"
  }
 },
 "nbformat": 4,
 "nbformat_minor": 4
}
