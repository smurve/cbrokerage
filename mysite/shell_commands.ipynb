{
 "cells": [
  {
   "cell_type": "markdown",
   "metadata": {},
   "source": [
    "# GKE\n",
    "\n",
    "### start the cluster with two nodes\n",
    "```\n",
    "gcloud container clusters create cbroker --scopes 'cloud-platform' --num-nodes 2 --enable-basic-auth --issue-client-certificate --enable-ip-alias --zone us-central1-c\n",
    "````\n",
    "\n",
    "### install kubectl\n",
    "```\n",
    "sudo snap install kubectl --classic\n",
    "\n",
    "kubectl get nodes\n",
    "```\n",
    "\n",
    "### get credentials for console\n",
    "```\n",
    "gcloud container clusters get-credentials cbroker --zone us-central1-c --project adtrac-experimental\n",
    "```\n",
    "\n",
    "\n"
   ]
  },
  {
   "cell_type": "markdown",
   "metadata": {},
   "source": [
    "---\n",
    "# Install docker\n",
    "\n",
    "### prerequisites\n",
    "```\n",
    "sudo apt-get install apt-transport-https ca-certificates curl gnupg-agent software-properties-common\n",
    "````\n",
    "\n",
    "### add docker GPG key\n",
    "```\n",
    "curl -fsSL https://download.docker.com/linux/ubuntu/gpg | sudo apt-key add -\n",
    "```\n",
    "\n",
    "### check fingerprint\n",
    "```\n",
    "sudo apt-key fingerprint 0EBFCD88\n",
    "```\n",
    "\n",
    "### add repo\n",
    "```\n",
    "sudo add-apt-repository \"deb [arch=amd64] https://download.docker.com/linux/ubuntu $(lsb_release -cs) stable\"\n",
    "\n",
    "sudo apt-get update\n",
    "```\n",
    "\n",
    "### install docker executables\n",
    "```\n",
    "sudo apt-get install docker-ce docker-ce-cli containerd.io\n",
    "```\n",
    "\n"
   ]
  },
  {
   "cell_type": "markdown",
   "metadata": {},
   "source": [
    "---\n",
    "\n",
    "# Build\n",
    "### build and run\n",
    "```\n",
    "sudo docker build -f Dockerfile.bionic -t gcr.io/adtrac-experimental/cbroker . && sudo docker run -p 8000:8000 cbroker:latest \n",
    "```\n",
    "\n",
    "### push to registry\n",
    "```\n",
    "sudo gcloud docker -- push gcr.io/adtrac-experimental/cbroker\n",
    "```"
   ]
  },
  {
   "cell_type": "markdown",
   "metadata": {},
   "source": [
    "---\n",
    "# Set up prod access\n",
    "key file created with IAM/Service Accounts/Create Key\n",
    "```\n",
    "kubectl create secret generic cloudsql-oauth-credentials --from-file=cloudsql.json\n",
    "```\n",
    "\n",
    "```\n",
    "kubectl create secret generic cloudsql --from-literal=username=[PROXY_USERNAME] --from-literal=password=[PASSWORD]\n",
    "```"
   ]
  },
  {
   "cell_type": "code",
   "execution_count": null,
   "metadata": {},
   "outputs": [],
   "source": []
  }
 ],
 "metadata": {
  "kernelspec": {
   "display_name": "Python 3",
   "language": "python",
   "name": "python3"
  },
  "language_info": {
   "codemirror_mode": {
    "name": "ipython",
    "version": 3
   },
   "file_extension": ".py",
   "mimetype": "text/x-python",
   "name": "python",
   "nbconvert_exporter": "python",
   "pygments_lexer": "ipython3",
   "version": "3.6.8"
  }
 },
 "nbformat": 4,
 "nbformat_minor": 4
}
